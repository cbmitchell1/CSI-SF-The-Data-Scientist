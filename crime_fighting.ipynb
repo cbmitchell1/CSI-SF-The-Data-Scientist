{
 "cells": [
  {
   "cell_type": "code",
   "execution_count": 58,
   "metadata": {
    "pycharm": {
     "is_executing": false
    }
   },
   "outputs": [],
   "source": [
    "# Import packages\n",
    "import numpy as np\n",
    "import pandas as pd\n",
    "import matplotlib.pyplot as plt\n",
    "import folium\n",
    "from uszipcode import SearchEngine\n",
    "from pandas.tseries.holiday import USFederalHolidayCalendar as calendar\n",
    "import matplotlib.pyplot as plt\n",
    "import time\n",
    "#install package for spatial feature engineering\n",
    "!pip install uszipcode"
   ]
  },
  {
   "cell_type": "code",
   "execution_count": null,
   "metadata": {},
   "outputs": [],
   "source": [
    "import os\n",
    "os.chdir('data')"
   ]
  },
  {
   "cell_type": "code",
   "execution_count": 4,
   "metadata": {
    "pycharm": {
     "is_executing": false
    }
   },
   "outputs": [],
   "source": [
    "# Load data\n",
    "train = pd.read_csv('train.csv')\n",
    "test = pd.read_csv('test.csv')"
   ]
  },
  {
   "cell_type": "code",
   "execution_count": 5,
   "metadata": {},
   "outputs": [
    {
     "data": {
      "text/html": [
       "<div>\n",
       "<style scoped>\n",
       "    .dataframe tbody tr th:only-of-type {\n",
       "        vertical-align: middle;\n",
       "    }\n",
       "\n",
       "    .dataframe tbody tr th {\n",
       "        vertical-align: top;\n",
       "    }\n",
       "\n",
       "    .dataframe thead th {\n",
       "        text-align: right;\n",
       "    }\n",
       "</style>\n",
       "<table border=\"1\" class=\"dataframe\">\n",
       "  <thead>\n",
       "    <tr style=\"text-align: right;\">\n",
       "      <th></th>\n",
       "      <th>Dates</th>\n",
       "      <th>Category</th>\n",
       "      <th>Descript</th>\n",
       "      <th>DayOfWeek</th>\n",
       "      <th>PdDistrict</th>\n",
       "      <th>Resolution</th>\n",
       "      <th>Address</th>\n",
       "      <th>X</th>\n",
       "      <th>Y</th>\n",
       "    </tr>\n",
       "  </thead>\n",
       "  <tbody>\n",
       "    <tr>\n",
       "      <th>0</th>\n",
       "      <td>2015-05-13 23:53:00</td>\n",
       "      <td>WARRANTS</td>\n",
       "      <td>WARRANT ARREST</td>\n",
       "      <td>Wednesday</td>\n",
       "      <td>NORTHERN</td>\n",
       "      <td>ARREST, BOOKED</td>\n",
       "      <td>OAK ST / LAGUNA ST</td>\n",
       "      <td>-122.425892</td>\n",
       "      <td>37.774599</td>\n",
       "    </tr>\n",
       "    <tr>\n",
       "      <th>1</th>\n",
       "      <td>2015-05-13 23:53:00</td>\n",
       "      <td>OTHER OFFENSES</td>\n",
       "      <td>TRAFFIC VIOLATION ARREST</td>\n",
       "      <td>Wednesday</td>\n",
       "      <td>NORTHERN</td>\n",
       "      <td>ARREST, BOOKED</td>\n",
       "      <td>OAK ST / LAGUNA ST</td>\n",
       "      <td>-122.425892</td>\n",
       "      <td>37.774599</td>\n",
       "    </tr>\n",
       "    <tr>\n",
       "      <th>2</th>\n",
       "      <td>2015-05-13 23:33:00</td>\n",
       "      <td>OTHER OFFENSES</td>\n",
       "      <td>TRAFFIC VIOLATION ARREST</td>\n",
       "      <td>Wednesday</td>\n",
       "      <td>NORTHERN</td>\n",
       "      <td>ARREST, BOOKED</td>\n",
       "      <td>VANNESS AV / GREENWICH ST</td>\n",
       "      <td>-122.424363</td>\n",
       "      <td>37.800414</td>\n",
       "    </tr>\n",
       "    <tr>\n",
       "      <th>3</th>\n",
       "      <td>2015-05-13 23:30:00</td>\n",
       "      <td>LARCENY/THEFT</td>\n",
       "      <td>GRAND THEFT FROM LOCKED AUTO</td>\n",
       "      <td>Wednesday</td>\n",
       "      <td>NORTHERN</td>\n",
       "      <td>NONE</td>\n",
       "      <td>1500 Block of LOMBARD ST</td>\n",
       "      <td>-122.426995</td>\n",
       "      <td>37.800873</td>\n",
       "    </tr>\n",
       "    <tr>\n",
       "      <th>4</th>\n",
       "      <td>2015-05-13 23:30:00</td>\n",
       "      <td>LARCENY/THEFT</td>\n",
       "      <td>GRAND THEFT FROM LOCKED AUTO</td>\n",
       "      <td>Wednesday</td>\n",
       "      <td>PARK</td>\n",
       "      <td>NONE</td>\n",
       "      <td>100 Block of BRODERICK ST</td>\n",
       "      <td>-122.438738</td>\n",
       "      <td>37.771541</td>\n",
       "    </tr>\n",
       "  </tbody>\n",
       "</table>\n",
       "</div>"
      ],
      "text/plain": [
       "                 Dates        Category                      Descript  \\\n",
       "0  2015-05-13 23:53:00        WARRANTS                WARRANT ARREST   \n",
       "1  2015-05-13 23:53:00  OTHER OFFENSES      TRAFFIC VIOLATION ARREST   \n",
       "2  2015-05-13 23:33:00  OTHER OFFENSES      TRAFFIC VIOLATION ARREST   \n",
       "3  2015-05-13 23:30:00   LARCENY/THEFT  GRAND THEFT FROM LOCKED AUTO   \n",
       "4  2015-05-13 23:30:00   LARCENY/THEFT  GRAND THEFT FROM LOCKED AUTO   \n",
       "\n",
       "   DayOfWeek PdDistrict      Resolution                    Address  \\\n",
       "0  Wednesday   NORTHERN  ARREST, BOOKED         OAK ST / LAGUNA ST   \n",
       "1  Wednesday   NORTHERN  ARREST, BOOKED         OAK ST / LAGUNA ST   \n",
       "2  Wednesday   NORTHERN  ARREST, BOOKED  VANNESS AV / GREENWICH ST   \n",
       "3  Wednesday   NORTHERN            NONE   1500 Block of LOMBARD ST   \n",
       "4  Wednesday       PARK            NONE  100 Block of BRODERICK ST   \n",
       "\n",
       "            X          Y  \n",
       "0 -122.425892  37.774599  \n",
       "1 -122.425892  37.774599  \n",
       "2 -122.424363  37.800414  \n",
       "3 -122.426995  37.800873  \n",
       "4 -122.438738  37.771541  "
      ]
     },
     "execution_count": 5,
     "metadata": {},
     "output_type": "execute_result"
    }
   ],
   "source": [
    "#look at the data\n",
    "train.head()"
   ]
  },
  {
   "cell_type": "code",
   "execution_count": 7,
   "metadata": {},
   "outputs": [
    {
     "data": {
      "text/html": [
       "<div>\n",
       "<style scoped>\n",
       "    .dataframe tbody tr th:only-of-type {\n",
       "        vertical-align: middle;\n",
       "    }\n",
       "\n",
       "    .dataframe tbody tr th {\n",
       "        vertical-align: top;\n",
       "    }\n",
       "\n",
       "    .dataframe thead th {\n",
       "        text-align: right;\n",
       "    }\n",
       "</style>\n",
       "<table border=\"1\" class=\"dataframe\">\n",
       "  <thead>\n",
       "    <tr style=\"text-align: right;\">\n",
       "      <th></th>\n",
       "      <th>Id</th>\n",
       "      <th>Dates</th>\n",
       "      <th>DayOfWeek</th>\n",
       "      <th>PdDistrict</th>\n",
       "      <th>Address</th>\n",
       "      <th>X</th>\n",
       "      <th>Y</th>\n",
       "    </tr>\n",
       "  </thead>\n",
       "  <tbody>\n",
       "    <tr>\n",
       "      <th>0</th>\n",
       "      <td>0</td>\n",
       "      <td>2015-05-10 23:59:00</td>\n",
       "      <td>Sunday</td>\n",
       "      <td>BAYVIEW</td>\n",
       "      <td>2000 Block of THOMAS AV</td>\n",
       "      <td>-122.399588</td>\n",
       "      <td>37.735051</td>\n",
       "    </tr>\n",
       "    <tr>\n",
       "      <th>1</th>\n",
       "      <td>1</td>\n",
       "      <td>2015-05-10 23:51:00</td>\n",
       "      <td>Sunday</td>\n",
       "      <td>BAYVIEW</td>\n",
       "      <td>3RD ST / REVERE AV</td>\n",
       "      <td>-122.391523</td>\n",
       "      <td>37.732432</td>\n",
       "    </tr>\n",
       "    <tr>\n",
       "      <th>2</th>\n",
       "      <td>2</td>\n",
       "      <td>2015-05-10 23:50:00</td>\n",
       "      <td>Sunday</td>\n",
       "      <td>NORTHERN</td>\n",
       "      <td>2000 Block of GOUGH ST</td>\n",
       "      <td>-122.426002</td>\n",
       "      <td>37.792212</td>\n",
       "    </tr>\n",
       "    <tr>\n",
       "      <th>3</th>\n",
       "      <td>3</td>\n",
       "      <td>2015-05-10 23:45:00</td>\n",
       "      <td>Sunday</td>\n",
       "      <td>INGLESIDE</td>\n",
       "      <td>4700 Block of MISSION ST</td>\n",
       "      <td>-122.437394</td>\n",
       "      <td>37.721412</td>\n",
       "    </tr>\n",
       "    <tr>\n",
       "      <th>4</th>\n",
       "      <td>4</td>\n",
       "      <td>2015-05-10 23:45:00</td>\n",
       "      <td>Sunday</td>\n",
       "      <td>INGLESIDE</td>\n",
       "      <td>4700 Block of MISSION ST</td>\n",
       "      <td>-122.437394</td>\n",
       "      <td>37.721412</td>\n",
       "    </tr>\n",
       "  </tbody>\n",
       "</table>\n",
       "</div>"
      ],
      "text/plain": [
       "   Id                Dates DayOfWeek PdDistrict                   Address  \\\n",
       "0   0  2015-05-10 23:59:00    Sunday    BAYVIEW   2000 Block of THOMAS AV   \n",
       "1   1  2015-05-10 23:51:00    Sunday    BAYVIEW        3RD ST / REVERE AV   \n",
       "2   2  2015-05-10 23:50:00    Sunday   NORTHERN    2000 Block of GOUGH ST   \n",
       "3   3  2015-05-10 23:45:00    Sunday  INGLESIDE  4700 Block of MISSION ST   \n",
       "4   4  2015-05-10 23:45:00    Sunday  INGLESIDE  4700 Block of MISSION ST   \n",
       "\n",
       "            X          Y  \n",
       "0 -122.399588  37.735051  \n",
       "1 -122.391523  37.732432  \n",
       "2 -122.426002  37.792212  \n",
       "3 -122.437394  37.721412  \n",
       "4 -122.437394  37.721412  "
      ]
     },
     "execution_count": 7,
     "metadata": {},
     "output_type": "execute_result"
    }
   ],
   "source": [
    "test.head()"
   ]
  },
  {
   "cell_type": "code",
   "execution_count": null,
   "metadata": {},
   "outputs": [],
   "source": [
    "by_zone = train.apply(pd.Series.value_counts).reset_index()\n",
    "\n",
    "# Load SF data\n",
    "!wget --quiet https://cocl.us/sanfran_geojson -O sf_neighborhoods.json\n",
    "sf_zones = r'sf_neighborhoods.json'\n",
    "\n",
    "SF_COORDINATES = (37.76, -122.45)\n",
    " \n",
    "\n",
    "# Create an empty map zoomed in on San Francisco\n",
    "sf_crime_map = folium.Map(location=SF_COORDINATES, zoom_start=12)\n",
    "\n",
    "\n",
    "sf_crime_map.choropleth(\n",
    "    geo_data=sf_zones,\n",
    "    data=by_zone,\n",
    "    columns=['index', 'PdDistrict'],\n",
    "    key_on='feature.properties.DISTRICT',\n",
    "    fill_color='YlOrRd', \n",
    "    fill_opacity=0.7, \n",
    "    line_opacity=0.2,\n",
    "    legend_name='San Fransisco Crime by Neighborhood'\n",
    ")\n",
    "\n",
    "sf_crime_map"
   ]
  },
  {
   "cell_type": "code",
   "execution_count": 6,
   "metadata": {},
   "outputs": [
    {
     "data": {
      "image/png": "[encoded data removed]",
      "text/plain": [
       "<Figure size 432x288 with 1 Axes>"
      ]
     },
     "metadata": {
      "needs_background": "light"
     },
     "output_type": "display_data"
    }
   ],
   "source": [
    "# Look at the 10 most common crimes\n",
    "most_common_cat = train['Category'].value_counts()[0:9].sort_values()\n",
    "most_common_cat.values\n",
    "\n",
    "\n",
    "categs = most_common_cat.index\n",
    "y_pos = np.arange(len(categs))\n",
    "counts = most_common_cat.values\n",
    "\n",
    "plt.barh(y_pos, counts, align='center', alpha=0.5)\n",
    "plt.barh(y_pos, counts, align='center', alpha=0.5)\n",
    "plt.yticks(y_pos, categs)\n",
    "plt.xlabel('Most Common Crime Types')\n",
    "plt.title('Number of Incidences')\n",
    "\n",
    "plt.show()"
   ]
  },
  {
   "cell_type": "code",
   "execution_count": 12,
   "metadata": {},
   "outputs": [
    {
     "name": "stdout",
     "output_type": "stream",
     "text": [
      "67 outliers, 0.01% of the total training set\n"
     ]
    }
   ],
   "source": [
    "print('{} outliers, {}% of the total training set'.format(\n",
    "    len(train[train['Y']>40]), round((len(train[train['Y']>40])*100)/len(train),2)))"
   ]
  },
  {
   "cell_type": "code",
   "execution_count": 49,
   "metadata": {
    "pycharm": {
     "is_executing": false
    }
   },
   "outputs": [],
   "source": [
    "# Impute zipcde for outlier points (#categories remains the same)\n",
    "train.loc[train['Y']>=90,'zipcode'] = 94103\n",
    "test.loc[test['Y']>=90,'zipcode'] = 94103\n",
    "train_zips = pd.concat([train_zips, train[train.Y>=90]], ignore_index = True).drop('Unnamed: 0',axis=1)\n",
    "test_zips = pd.concat([test_zips, test[test.Y>=90]], ignore_index = True).drop('Unnamed: 0',axis=1)"
   ]
  },
  {
   "cell_type": "markdown",
   "metadata": {},
   "source": [
    "Feature Engineering"
   ]
  },
  {
   "cell_type": "code",
   "execution_count": 37,
   "metadata": {
    "pycharm": {
     "is_executing": false,
     "name": "#%%\n"
    }
   },
   "outputs": [
    {
     "name": "stdout",
     "output_type": "stream",
     "text": [
      "['Unnamed: 0', 'Address', '', 'Dates', 'DayOfWeek', '', 'PdDistrict', '', 'X', 'Y', 'zipcode']\n"
     ]
    }
   ],
   "source": [
    "#First check columns that exist in both datasets\n",
    "print([val if val in test.columns.values else '' for val in train.columns.values])"
   ]
  },
  {
   "cell_type": "code",
   "execution_count": 38,
   "metadata": {
    "pycharm": {
     "is_executing": false,
     "name": "#%%\n"
    }
   },
   "outputs": [
    {
     "name": "stdout",
     "output_type": "stream",
     "text": [
      "['NORTHERN' 'PARK' 'INGLESIDE' 'BAYVIEW' 'RICHMOND' 'CENTRAL' 'TARAVAL'\n",
      " 'TENDERLOIN' 'MISSION' 'SOUTHERN']\n"
     ]
    }
   ],
   "source": [
    "#Can we do something with District? No, this will be categorical\n",
    "print(train['PdDistrict'].unique())\n",
    "#Perhaps population density? Pull from uszipcode but by coordinates\n",
    "#NOTE: false simple zipcode means 450MB download but so many more columns! :) \n",
    "#EDIT: false simple zipcode takes too long to lookup. Get full list of zips first, then use it.\n",
    "search = SearchEngine(simple_zipcode=True)"
   ]
  },
  {
   "cell_type": "code",
   "execution_count": 39,
   "metadata": {
    "pycharm": {
     "is_executing": false,
     "name": "#%%\n"
    },
    "scrolled": true
   },
   "outputs": [],
   "source": [
    "#add zipcode and population density based on coordinates. X is longitude, Y is latitude\n",
    "def zip_lookup(lat,lon):\n",
    "    #only return closest zipcode\n",
    "    try:\n",
    "        for zipcode in search.by_coordinates(lat,lon,radius=5,returns=1):\n",
    "            zp = zipcode.to_dict()\n",
    "        return zp['zipcode']\n",
    "    except:\n",
    "        return None"
   ]
  },
  {
   "cell_type": "code",
   "execution_count": 40,
   "metadata": {},
   "outputs": [],
   "source": [
    "#pull in features for a single zipcode\n",
    "def zip_dict(zp):\n",
    "    search = SearchEngine(simple_zipcode=False)\n",
    "    d = search.by_zipcode(str(zp)).to_dict()\n",
    "    d['zipcode'] = zp\n",
    "    return d"
   ]
  },
  {
   "cell_type": "code",
   "execution_count": 41,
   "metadata": {
    "pycharm": {
     "is_executing": false
    }
   },
   "outputs": [],
   "source": [
    "#take as input the full training dataset, including census columns\n",
    "#in which values are nested dictionaries\n",
    "def clean_data(df):\n",
    "    #initialize drop column list\n",
    "    cols_to_drop = []\n",
    "    df['zipcode'] = df['zipcode'].astype(int)\n",
    "    for i,dtype in enumerate(df.dtypes):\n",
    "        if dtype == 'object':\n",
    "            cols_to_drop.append(i)\n",
    "            #for each category in a list of dictionaries, add a column for that category\n",
    "            for j,dic in enumerate(df.iloc[0,i][0]['values']):\n",
    "                #subset the nested dictionary, appending all values (both null and real)\n",
    "                df[dic['x']] = [val[0]['values'][j]['y'] if val != None \n",
    "                                else None for val in df.iloc[:,i].values]\n",
    "    #drop non-numerical columns\n",
    "    df.drop(df.columns[cols_to_drop],axis=1,inplace=True)\n",
    "    return df"
   ]
  },
  {
   "cell_type": "code",
   "execution_count": 42,
   "metadata": {},
   "outputs": [],
   "source": [
    "#add features here \n",
    "feats = ['zipcode','population_by_race','population_by_age',\\\n",
    "                'families_vs_singles','median_household_income','housing_occupancy','employment_status',\\\n",
    "                'educational_attainment_for_population_25_and_over','source_of_earnings',\\\n",
    "                'school_enrollment_age_3_to_17']\n",
    "\n",
    "def zip_engineer(df, feats):\n",
    "    df['zipcode'] = df['zipcode'].astype(int)\n",
    "    #lookup stats by each zipcode\n",
    "    zip_df = pd.DataFrame({'zipcode':df['zipcode'].dropna().unique()})\n",
    "    zip_df = pd.DataFrame.from_records(zip_df.loc[:,'zipcode'].apply(lambda x: zip_dict(x)))\n",
    "    #select columns to keep\n",
    "    zip_df = zip_df[feats]\n",
    "    zip_df_clean = clean_data(zip_df)\n",
    "    #merging zip reference with original df on zipcode\n",
    "    merged = pd.merge(df,zip_df_clean,how='left',on='zipcode')\n",
    "    return merged"
   ]
  },
  {
   "cell_type": "code",
   "execution_count": 43,
   "metadata": {},
   "outputs": [],
   "source": [
    "def time_engineer(data):\n",
    "    # Turn strings onto timestamp objects\n",
    "    data.Dates = pd.to_datetime(data.Dates)\n",
    "\n",
    "    # Extract years, months, times of the day, and weeks of year\n",
    "    data['Year'] = data['Dates'].dt.year\n",
    "    data['Month'] = data['Dates'].dt.month\n",
    "    data['Day'] = data['Dates'].dt.day\n",
    "    data['Hour'] = data['Dates'].dt.hour\n",
    "    data['WeekOfYear'] = data['Dates'].dt.weekofyear\n",
    "\n",
    "    # Add a dummy for public holidays\n",
    "    cal = calendar()\n",
    "    holidays = cal.holidays(start=data['Dates'].min(), end=data['Dates'].max())\n",
    "    data['Holiday'] = data['Dates'].dt.date.astype('datetime64').isin(holidays)\n",
    "\n",
    "    # Add times of a day\n",
    "    data['Night'] = np.where((data['Hour']< 6), 1, 0)\n",
    "    data['Morning'] = np.where((data['Hour']>=6) & (data['Hour']<12), 1, 0)\n",
    "    data['Afternoon'] = np.where((data['Hour']>= 12) & (data['Hour']<18), 1, 0)\n",
    "    data['Evening'] = np.where((data['Hour']>= 18) & (data['Hour']<24), 1, 0)\n",
    "    data['BusinessHour'] = np.where((data['Hour']>= 8) & (data['Hour']<18), 1, 0)\n",
    "\n",
    "    # Add seasons\n",
    "    data['Spring'] = np.where((data['Month']>=3) & (data['Month']<6), 1, 0)\n",
    "    data['Summer'] = np.where((data['Month']>=6) & (data['Month']<9), 1, 0)\n",
    "    data['Autumn'] = np.where((data['Month']>=9) & (data['Month']<12), 1, 0)\n",
    "    data['Winter'] = np.where((data['Month']<=2) | (data['Month']==12), 1, 0)\n",
    "\n",
    "    # Encode weekdays\n",
    "    data_dummies = pd.get_dummies(data['DayOfWeek'])\n",
    "    data = pd.concat([data, data_dummies], axis=1)\n",
    "\n",
    "    # Create a dummy for weekends\n",
    "    data['Weekend'] = np.where((data['DayOfWeek']=='Saturday') & (data['DayOfWeek']=='Sunday'), 1, 0)\n",
    "\n",
    "    # Encode districts\n",
    "    data_dummies = pd.get_dummies(data['PdDistrict'])\n",
    "    data = pd.concat([data, data_dummies], axis=1)\n",
    "    data = data.drop(columns=['PdDistrict'])\n",
    "    return data"
   ]
  },
  {
   "cell_type": "code",
   "execution_count": 52,
   "metadata": {
    "pycharm": {
     "is_executing": false,
     "name": "#%%\n"
    },
    "scrolled": false
   },
   "outputs": [],
   "source": [
    "train_eng = zip_engineer(train, feats)\n",
    "train_eng = time_engineer(train_eng)\n",
    "train_eng.to_csv('train_eng_full.csv')"
   ]
  },
  {
   "cell_type": "code",
   "execution_count": 53,
   "metadata": {},
   "outputs": [],
   "source": [
    "test_eng = zip_engineer(test,feats)\n",
    "test_eng = time_engineer(test_eng)\n",
    "test_eng.to_csv('test_eng_full.csv')"
   ]
  },
  {
   "cell_type": "markdown",
   "metadata": {},
   "source": [
    "Modeling"
   ]
  },
  {
   "cell_type": "code",
   "execution_count": 18,
   "metadata": {},
   "outputs": [],
   "source": [
    "data = pd.read_csv('train_eng_full.csv')\n",
    "test = pd.read_csv('test_eng_full.csv')"
   ]
  },
  {
   "cell_type": "code",
   "execution_count": 16,
   "metadata": {},
   "outputs": [],
   "source": [
    "from sklearn.linear_model import LogisticRegression\n",
    "from sklearn.ensemble import RandomForestClassifier\n",
    "from sklearn.neighbors import KNeighborsClassifier\n",
    "from sklearn.model_selection import train_test_split\n",
    "from sklearn.metrics import log_loss\n",
    "from sklearn.preprocessing import LabelEncoder"
   ]
  },
  {
   "cell_type": "code",
   "execution_count": 36,
   "metadata": {
    "scrolled": true
   },
   "outputs": [],
   "source": [
    "# Encode the labels\n",
    "cat_le = LabelEncoder()\n",
    "cat_le.fit(data['Category'].unique())\n",
    "data['Category'] = cat_le.transform(data['Category'])\n",
    "y = data['Category']\n",
    "# Save our mapping\n",
    "decoder = dict(zip(cat_le.transform(cat_le.classes_), cat_le.classes_))"
   ]
  },
  {
   "cell_type": "code",
   "execution_count": 37,
   "metadata": {
    "pycharm": {
     "name": "#%%\n"
    }
   },
   "outputs": [],
   "source": [
    "# Select only numeric features\n",
    "features = data.select_dtypes(exclude=['object'])\n",
    "# Split data into training and test sets\n",
    "X_train, X_test, y_train, y_test = train_test_split(features, y, test_size=0.2)"
   ]
  },
  {
   "cell_type": "code",
   "execution_count": 68,
   "metadata": {},
   "outputs": [
    {
     "name": "stderr",
     "output_type": "stream",
     "text": [
      "/Users/connormitchell/anaconda/envs/py36/lib/python3.6/site-packages/sklearn/linear_model/logistic.py:947: ConvergenceWarning: lbfgs failed to converge. Increase the number of iterations.\n",
      "  \"of iterations.\", ConvergenceWarning)\n",
      "/Users/connormitchell/anaconda/envs/py36/lib/python3.6/site-packages/sklearn/ensemble/forest.py:245: FutureWarning: The default value of n_estimators will change from 10 in version 0.20 to 100 in 0.22.\n",
      "  \"10 in version 0.20 to 100 in 0.22.\", FutureWarning)\n"
     ]
    }
   ],
   "source": [
    "# Try out different models\n",
    "models = [LogisticRegression(solver='lbfgs',multi_class='multinomial'), RandomForestClassifier(), \\\n",
    "          KNeighborsClassifier()]\n",
    "\n",
    "def run_model(model, X_train, y_train, X_test, y_test, final=False):\n",
    "    start = time.time()\n",
    "    #fit the model to the training data\n",
    "    model.fit(X_train, y_train)\n",
    "    #predict the probability for each class (category) \n",
    "    y_preds = model.predict_proba(X_test)\n",
    "    runtime = time.time() - start\n",
    "    if final==True:\n",
    "        return y_preds\n",
    "    return {'log loss':(log_loss(y_test, y_preds, labels=np.unique(y_train))),\n",
    "            'runtime (s)':runtime}\n",
    "    \n",
    "results = [run_model(model, X_train, y_train, X_test, y_test) for model in models]"
   ]
  },
  {
   "cell_type": "code",
   "execution_count": 69,
   "metadata": {},
   "outputs": [
    {
     "data": {
      "text/html": [
       "<div>\n",
       "<style scoped>\n",
       "    .dataframe tbody tr th:only-of-type {\n",
       "        vertical-align: middle;\n",
       "    }\n",
       "\n",
       "    .dataframe tbody tr th {\n",
       "        vertical-align: top;\n",
       "    }\n",
       "\n",
       "    .dataframe thead th {\n",
       "        text-align: right;\n",
       "    }\n",
       "</style>\n",
       "<table border=\"1\" class=\"dataframe\">\n",
       "  <thead>\n",
       "    <tr style=\"text-align: right;\">\n",
       "      <th></th>\n",
       "      <th>log loss</th>\n",
       "      <th>runtime (s)</th>\n",
       "      <th>model</th>\n",
       "    </tr>\n",
       "  </thead>\n",
       "  <tbody>\n",
       "    <tr>\n",
       "      <th>0</th>\n",
       "      <td>2.645550</td>\n",
       "      <td>202.962555</td>\n",
       "      <td>logistic regression</td>\n",
       "    </tr>\n",
       "    <tr>\n",
       "      <th>1</th>\n",
       "      <td>3.478473</td>\n",
       "      <td>41.240819</td>\n",
       "      <td>random forest</td>\n",
       "    </tr>\n",
       "    <tr>\n",
       "      <th>2</th>\n",
       "      <td>18.241259</td>\n",
       "      <td>42.061112</td>\n",
       "      <td>KNN</td>\n",
       "    </tr>\n",
       "  </tbody>\n",
       "</table>\n",
       "</div>"
      ],
      "text/plain": [
       "    log loss  runtime (s)                model\n",
       "0   2.645550   202.962555  logistic regression\n",
       "1   3.478473    41.240819        random forest\n",
       "2  18.241259    42.061112                  KNN"
      ]
     },
     "execution_count": 69,
     "metadata": {},
     "output_type": "execute_result"
    }
   ],
   "source": [
    "results_df = pd.DataFrame.from_dict(results)\n",
    "results_df['model'] = ['logistic regression', 'random forest', 'KNN']\n",
    "results_df"
   ]
  },
  {
   "cell_type": "code",
   "execution_count": null,
   "metadata": {},
   "outputs": [],
   "source": [
    "submission_preds = run_model(models[results.index(max(results))], features, y, test, None, \n",
    "                             final=True)\n",
    "submission_preds.to_csv('SFCrime_kaggle_submission.csv')"
   ]
  }
 ],
 "metadata": {
  "kernelspec": {
   "display_name": "Python 3",
   "language": "python",
   "name": "python3"
  },
  "language_info": {
   "codemirror_mode": {
    "name": "ipython",
    "version": 3
   },
   "file_extension": ".py",
   "mimetype": "text/x-python",
   "name": "python",
   "nbconvert_exporter": "python",
   "pygments_lexer": "ipython3",
   "version": "3.6.8"
  },
  "pycharm": {
   "stem_cell": {
    "cell_type": "raw",
    "metadata": {
     "collapsed": false
    },
    "source": []
   }
  }
 },
 "nbformat": 4,
 "nbformat_minor": 2
}
